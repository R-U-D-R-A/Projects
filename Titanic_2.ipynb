{
  "nbformat": 4,
  "nbformat_minor": 0,
  "metadata": {
    "kernelspec": {
      "name": "python3",
      "display_name": "Python 3",
      "language": "python"
    },
    "language_info": {
      "name": "python",
      "version": "3.7.6",
      "mimetype": "text/x-python",
      "codemirror_mode": {
        "name": "ipython",
        "version": 3
      },
      "pygments_lexer": "ipython3",
      "nbconvert_exporter": "python",
      "file_extension": ".py"
    },
    "colab": {
      "name": "Titanic-2.ipynb",
      "provenance": [],
      "collapsed_sections": [
        "ninsm2n_yenY"
      ]
    }
  },
  "cells": [
    {
      "cell_type": "markdown",
      "metadata": {
        "id": "6c9lRmwLyejF",
        "colab_type": "text"
      },
      "source": [
        "# Titanic: Machine Learning from Disaster"
      ]
    },
    {
      "cell_type": "code",
      "metadata": {
        "trusted": true,
        "id": "0uPDviwFyejO",
        "colab_type": "code",
        "colab": {}
      },
      "source": [
        "import matplotlib.pyplot as plt\n",
        "import numpy as np\n",
        "import pandas as pd\n",
        "import seaborn as sns\n",
        "import math\n",
        "from math import *\n",
        "\n",
        "from plotly.offline import init_notebook_mode, iplot\n",
        "import plotly.graph_objects as go\n",
        "from ipywidgets import widgets\n",
        "from ipywidgets import *\n",
        "# Ce code fonctionne dans un notebook jupyter.\n",
        "init_notebook_mode(connected=True)"
      ],
      "execution_count": null,
      "outputs": []
    },
    {
      "cell_type": "code",
      "metadata": {
        "trusted": true,
        "id": "QbKPWRf3yejc",
        "colab_type": "code",
        "colab": {}
      },
      "source": [
        "%matplotlib inline"
      ],
      "execution_count": null,
      "outputs": []
    },
    {
      "cell_type": "code",
      "metadata": {
        "trusted": true,
        "id": "S36A2m2Ryejp",
        "colab_type": "code",
        "colab": {}
      },
      "source": [
        "df_train = pd.read_csv('../input/titanic/train.csv')\n",
        "df_test = pd.read_csv('../input/titanic/test.csv')\n",
        "df_sub = pd.read_csv('../input/titanic/gender_submission.csv')"
      ],
      "execution_count": null,
      "outputs": []
    },
    {
      "cell_type": "markdown",
      "metadata": {
        "id": "WxbMEjXWyej1",
        "colab_type": "text"
      },
      "source": [
        "## Part 1 : Data analysis\n",
        "\n",
        "#### Variable Notes\n",
        "\n",
        "- pclass: A proxy for socio-economic status (1st = Upper, 2nd = Middle, 3rd = Lower)\n",
        "- age: Passenger Age\n",
        "- sibsp:  siblings / spouses aboard the Titani\n",
        "- parch:  of parents / children aboard the Titanic\n",
        "- fare:\tPassenger fare\n",
        "- sex :\tmale/female\n",
        "- Embarked : Port of Embarkation (C = Cherbourg, Q = Queenstown, S = Southampton)\n",
        "\n",
        "#### Variable analysis (Train Set)\n",
        "\n",
        "- **Target variable** : Survived. 549 not survived ,342 survived\n",
        "- **Nombre of columns/rows** : 12 columns and 891 rows \n",
        "- **Variable type :** We have 5 variables of type float64, 5 variables of type int64 and 5 variables of type object.\n",
        "\n",
        "#### Variable analysis (Test Set)\n",
        "\n",
        "- **Nombre of columns/rows** : 12 columns and 891 rows \n",
        "- **Variable type :** We have 5 variables of type float64, 4 variables of type int64 and 5 variables of type object."
      ]
    },
    {
      "cell_type": "markdown",
      "metadata": {
        "id": "Bg3Dqb8Vyej4",
        "colab_type": "text"
      },
      "source": [
        "<b> Observation 1 :</b> We can see that the women survived the sinking of the titanic more than the men. We can also note that the passengers of the first class were more lucky than the other passengers of the third and second class.\n"
      ]
    },
    {
      "cell_type": "code",
      "metadata": {
        "trusted": true,
        "id": "avlyewlMyej6",
        "colab_type": "code",
        "colab": {}
      },
      "source": [
        "df_train.dtypes.value_counts()"
      ],
      "execution_count": null,
      "outputs": []
    },
    {
      "cell_type": "code",
      "metadata": {
        "trusted": true,
        "id": "z7quB5j_yekJ",
        "colab_type": "code",
        "colab": {}
      },
      "source": [
        "df_test.dtypes.value_counts()"
      ],
      "execution_count": null,
      "outputs": []
    },
    {
      "cell_type": "code",
      "metadata": {
        "trusted": true,
        "id": "TIOHDUD-yekU",
        "colab_type": "code",
        "colab": {}
      },
      "source": [
        "df_train[\"Survived\"].value_counts()"
      ],
      "execution_count": null,
      "outputs": []
    },
    {
      "cell_type": "code",
      "metadata": {
        "trusted": true,
        "id": "6CattwU5yeke",
        "colab_type": "code",
        "colab": {}
      },
      "source": [
        "labels=df_train[\"Survived\"].value_counts().index\n",
        "values=df_train[\"Survived\"].value_counts().values\n",
        "fig = go.Figure(data=[go.Pie(labels=labels, values=values, textinfo='label+percent',\n",
        "                             insidetextorientation='radial'\n",
        "                            )])\n",
        "fig.show()"
      ],
      "execution_count": null,
      "outputs": []
    },
    {
      "cell_type": "markdown",
      "metadata": {
        "id": "3dpklr6yyekr",
        "colab_type": "text"
      },
      "source": [
        "## First visualization"
      ]
    },
    {
      "cell_type": "code",
      "metadata": {
        "trusted": true,
        "id": "dI2cecw3yeku",
        "colab_type": "code",
        "colab": {}
      },
      "source": [
        "w_variable = widgets.Dropdown(\n",
        "    options=[\"Age\",\"Fare\"],\n",
        "    value=\"Age\",\n",
        "    description='Variable:',\n",
        "    disabled=False,\n",
        ")\n",
        "\n",
        "def plot_histo(variable):\n",
        "    fig, ax = plt.subplots(ncols=1, figsize=(12, 8))\n",
        "    sns.distplot(df_train[df_train[\"Survived\"]==1][variable].dropna(), color=\"skyblue\",bins=30, label=\"Survived\")\n",
        "    sns.distplot(df_train[df_train[\"Survived\"]==0][variable].dropna(), color=\"red\",bins=30, label=\"Not Survived\")\n",
        "    plt.legend()        \n",
        "widget=interactive(plot_histo,variable=w_variable)\n",
        "widget"
      ],
      "execution_count": null,
      "outputs": []
    },
    {
      "cell_type": "code",
      "metadata": {
        "trusted": true,
        "id": "Qa8sHyVPyek5",
        "colab_type": "code",
        "colab": {}
      },
      "source": [
        "fig, ax = plt.subplots(ncols=2,nrows=5,figsize=(15, 20))\n",
        "\n",
        "df_train['Sex'].value_counts().plot.pie(ax=ax[0,0])\n",
        "sns.countplot(x='Sex', hue=\"Survived\", data=df_train,ax=ax[0,1])\n",
        "\n",
        "df_train['Embarked'].value_counts().plot.pie(ax=ax[1,0])\n",
        "sns.countplot(x='Embarked', hue=\"Survived\", data=df_train,ax=ax[1,1])\n",
        "\n",
        "df_train['Pclass'].value_counts().plot.pie(ax=ax[2,0])\n",
        "sns.countplot(x='Pclass', hue=\"Survived\", data=df_train,ax=ax[2,1])\n",
        "\n",
        "df_train['SibSp'].value_counts().plot.pie(ax=ax[3,0])\n",
        "sns.countplot(x='SibSp', hue=\"Survived\", data=df_train,ax=ax[3,1])\n",
        "\n",
        "df_train['Parch'].value_counts().plot.pie(ax=ax[4,0])\n",
        "sns.countplot(x='Parch', hue=\"Survived\", data=df_train,ax=ax[4,1])\n",
        "\n",
        "plt.legend()"
      ],
      "execution_count": null,
      "outputs": []
    },
    {
      "cell_type": "markdown",
      "metadata": {
        "id": "d2rNrauNyelI",
        "colab_type": "text"
      },
      "source": [
        "## Missing Value"
      ]
    },
    {
      "cell_type": "code",
      "metadata": {
        "trusted": true,
        "id": "fMVq8-TvyelK",
        "colab_type": "code",
        "colab": {}
      },
      "source": [
        "fig, ax = plt.subplots(ncols=2, figsize=(20, 8))\n",
        "sns.heatmap(df_train.isnull(),yticklabels=False,cbar=False,cmap='BuPu',ax=ax[0])\n",
        "sns.heatmap(df_test.isnull(), yticklabels=False,cbar=False, cmap='BuPu',ax=ax[1])\n",
        "ax[0].set_title('Train Set Missing Values')\n",
        "ax[1].set_title('Test Set Missing Values')\n",
        "plt.xticks(rotation=90)\n",
        "plt.show()"
      ],
      "execution_count": null,
      "outputs": []
    },
    {
      "cell_type": "code",
      "metadata": {
        "trusted": true,
        "id": "OEMxqS69yelU",
        "colab_type": "code",
        "colab": {}
      },
      "source": [
        "missing_rate_train = (df_train.isna().sum()/df_train.shape[0]).sort_values()\n",
        "nb_missing = df_train.isna().sum().sort_values()\n",
        "print(f'{\"Variable\" :-<40} {\"missing_rate_train\":-<30} {\"Number of missing values\":-<30}')\n",
        "for n in range(len(missing_rate_train)):\n",
        "    print(f'{missing_rate_train.index[n] :-<30} {missing_rate_train[n]:-<30} {nb_missing[n]:-<30}')"
      ],
      "execution_count": null,
      "outputs": []
    },
    {
      "cell_type": "code",
      "metadata": {
        "trusted": true,
        "id": "HFaSKQHhyele",
        "colab_type": "code",
        "colab": {}
      },
      "source": [
        "missing_rate_test = (df_test.isna().sum()/df_test.shape[0]).sort_values()\n",
        "nb_missing = df_test.isna().sum().sort_values()\n",
        "print(f'{\"Variable\" :-<30} {\"missing_rate_train\":-<30} {\"Number of missing values\":-<30}')\n",
        "for n in range(len(missing_rate_test)):\n",
        "    print(f'{missing_rate_test.index[n] :-<30} {missing_rate_test[n]:-<30} {nb_missing[n]:-<30}')"
      ],
      "execution_count": null,
      "outputs": []
    },
    {
      "cell_type": "markdown",
      "metadata": {
        "id": "4l3Gjk7Kyelp",
        "colab_type": "text"
      },
      "source": [
        "Note : As can be seen, several values are missing in the Age columns. Replacing missing values with the average is not the best solution.   \n"
      ]
    },
    {
      "cell_type": "code",
      "metadata": {
        "trusted": true,
        "id": "AcmUYIBtyelr",
        "colab_type": "code",
        "colab": {}
      },
      "source": [
        "def TransfromTitle(df_aux):\n",
        "    \n",
        "    title = []\n",
        "    for name in df_aux['Name'] :\n",
        "        p1 = name.find(',') # position of coma\n",
        "        p2 = name.find('.') # position of point\n",
        "        if p1 != -1 or p2!= -1:\n",
        "            title.append(name[p1+2:p2])\n",
        "        else :\n",
        "            title.append(np.nan) \n",
        "    df_aux['title'] = pd.DataFrame(title, index=df_aux.index)\n",
        "    \n",
        "    title2 = []\n",
        "    for t in df_aux['title'] :\n",
        "        if t in [\"Mr\",\"Miss\",\"Mrs\",\"Master\"]:\n",
        "            title2.append(t)\n",
        "        elif t in ['Don', 'Mme', 'Ms', 'Lady', 'Sir', 'Mlle', 'the Countess','Jonkheer', 'Dona']: \n",
        "            title2.append(\"royale\")\n",
        "        elif t in ['Major','Col', 'Capt','Rev','Dr']:\n",
        "            title2.append(\"officier/capitaine\")\n",
        "    df_aux['title'] = pd.DataFrame(title2, index=df_aux.index) \n",
        "    \n",
        "    return df_aux.drop(columns=[\"PassengerId\",\"Name\"])"
      ],
      "execution_count": null,
      "outputs": []
    },
    {
      "cell_type": "code",
      "metadata": {
        "trusted": true,
        "id": "u1AuTWf5yel0",
        "colab_type": "code",
        "colab": {}
      },
      "source": [
        "df1 = TransfromTitle(df_train)\n",
        "df1.head(5)"
      ],
      "execution_count": null,
      "outputs": []
    },
    {
      "cell_type": "markdown",
      "metadata": {
        "id": "EoH9Ymdoyel9",
        "colab_type": "text"
      },
      "source": [
        "### Age processing : "
      ]
    },
    {
      "cell_type": "code",
      "metadata": {
        "trusted": true,
        "id": "TaKiNLk2yel_",
        "colab_type": "code",
        "colab": {}
      },
      "source": [
        "fig, ax = plt.subplots(ncols=2, figsize=(20, 7))\n",
        "sns.countplot(x='title', hue=\"Survived\", data=df1,ax=ax[0])\n",
        "sns.countplot(x='Pclass', hue=\"Survived\", data=df1,ax=ax[1])\n",
        "ax[0].set_title('Histogram')\n",
        "ax[1].set_title('Histogram')"
      ],
      "execution_count": null,
      "outputs": []
    },
    {
      "cell_type": "code",
      "metadata": {
        "trusted": true,
        "id": "9UA2grj6yemJ",
        "colab_type": "code",
        "colab": {}
      },
      "source": [
        "fig, ax = plt.subplots(ncols=1, figsize=(15, 5))\n",
        "sns.distplot(df1[df1[\"title\"]=='Mr'][\"Age\"].dropna(), color=\"red\",bins=30, label='Mr')\n",
        "sns.distplot(df1[df1[\"title\"]=='Mrs'][\"Age\"].dropna(), color=\"green\",bins=30, label='Mrs')\n",
        "sns.distplot(df1[df1[\"title\"]=='Miss'][\"Age\"].dropna(), color=\"blue\",bins=30, label='Miss')\n",
        "sns.distplot(df1[df1[\"title\"]=='Master'][\"Age\"].dropna(), color=\"skyblue\",bins=2, label='Master')\n",
        "sns.distplot(df1[df1[\"title\"]=='officier/capitaine'][\"Age\"].dropna(), color=\"yellow\",bins=2, label='officier/capitaine')\n",
        "plt.legend()"
      ],
      "execution_count": null,
      "outputs": []
    },
    {
      "cell_type": "code",
      "metadata": {
        "trusted": true,
        "id": "JZCrDKWSyemT",
        "colab_type": "code",
        "colab": {}
      },
      "source": [
        "fig, ax = plt.subplots(ncols=1, figsize=(15, 5))\n",
        "sns.distplot(df1[df1[\"Pclass\"]==3][\"Age\"].dropna(), color=\"red\",bins=30, label=\"Class 3\")\n",
        "sns.distplot(df1[df1[\"Pclass\"]==2][\"Age\"].dropna(), color=\"green\",bins=30, label=\"Class 2\")\n",
        "sns.distplot(df1[df1[\"Pclass\"]==1][\"Age\"].dropna(), color=\"blue\",bins=30, label=\"Class 1\")\n",
        "plt.legend()"
      ],
      "execution_count": null,
      "outputs": []
    },
    {
      "cell_type": "code",
      "metadata": {
        "trusted": true,
        "id": "pboH-61cyemc",
        "colab_type": "code",
        "colab": {}
      },
      "source": [
        "def TransfromAge(df_aux):\n",
        "    GroupAge = ['inf-10', '10-18', '18-35', '35-65', 'sup-65']\n",
        "    cond1 = (df_aux[\"Age\"].isnull())&(df_aux[\"title\"]==\"Master\")\n",
        "    df_aux.loc[cond1, 'Age'] = calcul_median(df_aux,\"Master\")\n",
        "\n",
        "    cond2 = (df_aux[\"Age\"].isnull())&(df_aux[\"title\"]==\"Miss\")\n",
        "    df_aux.loc[cond2, 'Age'] = calcul_median(df_aux,\"Miss\")\n",
        "\n",
        "    cond3 = (df_aux[\"Age\"].isnull())&(df_aux[\"title\"]==\"Mrs\")\n",
        "    df_aux.loc[cond3, 'Age'] = calcul_median(df_aux,\"Mrs\")\n",
        "\n",
        "    cond4 = (df_aux[\"Age\"].isnull())&(df_aux[\"title\"]==\"Mr\")\n",
        "    df_aux.loc[cond4, 'Age'] = calcul_median(df_aux,\"Mr\")\n",
        "\n",
        "    cond5 = (df_aux[\"Age\"].isnull())&(df_aux[\"title\"]==\"officier/capitaine\")\n",
        "    df_aux.loc[cond5, 'Age'] = calcul_median(df_aux,\"officier/capitaine\")\n",
        "\n",
        "    cond6 = (df_aux[\"Age\"].isnull())&(df_aux[\"title\"]==\"royale\")\n",
        "    df_aux.loc[cond6, 'Age'] = calcul_median(df_aux,\"royale\")\n",
        "    # Age group\n",
        "    bins = [0, 10, 18, 35, 65, np.inf]\n",
        "    GroupAge = ['inf-10', '10-18', '18-35', '35-65', 'sup-65']\n",
        "    df_aux['GroupAge'] = pd.cut(df_aux['Age'], bins, labels=GroupAge)\n",
        "    return df_aux\n",
        "\n",
        "def calcul_median(df_aux,ch):\n",
        "    return df_aux[df_aux[\"title\"]==ch].Age.dropna().median()"
      ],
      "execution_count": null,
      "outputs": []
    },
    {
      "cell_type": "markdown",
      "metadata": {
        "id": "WbMJgmnQyemi",
        "colab_type": "text"
      },
      "source": [
        "\n",
        "<b> Observation 2 :</b> We replace the missing values of the age variable according to the title variable. For this we use the median\n"
      ]
    },
    {
      "cell_type": "markdown",
      "metadata": {
        "id": "D13_faaXyemj",
        "colab_type": "text"
      },
      "source": [
        "### Fare processing : "
      ]
    },
    {
      "cell_type": "code",
      "metadata": {
        "trusted": true,
        "id": "5LuQBGS1yemj",
        "colab_type": "code",
        "colab": {}
      },
      "source": [
        "df_test[df_test[\"Fare\"].isnull()]"
      ],
      "execution_count": null,
      "outputs": []
    },
    {
      "cell_type": "markdown",
      "metadata": {
        "id": "xQDojJK2yemq",
        "colab_type": "text"
      },
      "source": [
        "<b> Observation 3 :</b> We have one missing value for Fare variable.\n"
      ]
    },
    {
      "cell_type": "code",
      "metadata": {
        "trusted": true,
        "id": "vwzN2B9syemr",
        "colab_type": "code",
        "colab": {}
      },
      "source": [
        "fig, ax = plt.subplots(ncols=1, figsize=(15, 5))\n",
        "sns.distplot(df1[df1[\"Pclass\"]==3][\"Fare\"].dropna(), color=\"blue\",bins=50, label='Pclass 3')\n",
        "plt.legend()"
      ],
      "execution_count": null,
      "outputs": []
    },
    {
      "cell_type": "code",
      "metadata": {
        "trusted": true,
        "id": "eZcIGsY3yemw",
        "colab_type": "code",
        "colab": {}
      },
      "source": [
        "def TransfromFare(df_aux):\n",
        "    df_aux.loc[(df_aux[\"Fare\"].isnull())&(df_aux[\"Pclass\"]==3), 'Fare'] = df_aux[df_aux[\"Pclass\"]==3].Fare.dropna().median()\n",
        "    # Fare group\n",
        "    bins = [-1,8,14,20,60,100,600]\n",
        "    GroupFare = ['0-8£','8-14£','14-20£','20-60£','60-100£','100-515£']\n",
        "    df_aux['GroupFare'] = pd.cut(df_aux['Fare'], bins, labels=GroupFare)\n",
        "    return df_aux"
      ],
      "execution_count": null,
      "outputs": []
    },
    {
      "cell_type": "markdown",
      "metadata": {
        "id": "GFoTB2rayem0",
        "colab_type": "text"
      },
      "source": [
        "### Cabin processing : "
      ]
    },
    {
      "cell_type": "code",
      "metadata": {
        "trusted": true,
        "id": "g47hJSFEyem4",
        "colab_type": "code",
        "colab": {}
      },
      "source": [
        "def TransfromCabin(df_aux):\n",
        "    df_aux.loc[(df_aux[\"Cabin\"].isnull()), 'HasOrNotCabinNumber'] = \"Has Not Cabin Number\"\n",
        "    df_aux.loc[(df_aux[\"Cabin\"].notnull()), 'HasOrNotCabinNumber'] = \"Has Cabin Number\"\n",
        "    return df_aux.drop(columns=[\"Cabin\",\"Ticket\"])"
      ],
      "execution_count": null,
      "outputs": []
    },
    {
      "cell_type": "markdown",
      "metadata": {
        "id": "8K8kE0Flyem-",
        "colab_type": "text"
      },
      "source": [
        "### Embarked processing :"
      ]
    },
    {
      "cell_type": "code",
      "metadata": {
        "trusted": true,
        "id": "c64JCzC1yenA",
        "colab_type": "code",
        "colab": {}
      },
      "source": [
        "df_train[df_train[\"Embarked\"].isnull()]"
      ],
      "execution_count": null,
      "outputs": []
    },
    {
      "cell_type": "code",
      "metadata": {
        "trusted": true,
        "id": "vA_iJ9-4yenG",
        "colab_type": "code",
        "colab": {}
      },
      "source": [
        "fig, ax = plt.subplots(ncols=2, figsize=(20, 5))\n",
        "sns.countplot(x='Embarked', hue=\"Survived\", data=df_train[(df_train[\"Pclass\"]==1)],ax=ax[0])\n",
        "df_train['Embarked'].value_counts().plot.pie(ax=ax[1])\n",
        "ax[0].set_title('Embarked/Survived for first class')\n",
        "ax[1].set_title('value count of Embarked')\n",
        "plt.show()"
      ],
      "execution_count": null,
      "outputs": []
    },
    {
      "cell_type": "code",
      "metadata": {
        "trusted": true,
        "id": "N3XH_U0uyenO",
        "colab_type": "code",
        "colab": {}
      },
      "source": [
        "def TransfromEmbarked(df_aux):\n",
        "    df_aux.loc[(df_aux[\"Embarked\"].isnull())&(df_aux[\"Pclass\"]==1), 'Embarked'] = \"S\"\n",
        "    return df_aux"
      ],
      "execution_count": null,
      "outputs": []
    },
    {
      "cell_type": "markdown",
      "metadata": {
        "id": "cSADZM-5yenS",
        "colab_type": "text"
      },
      "source": [
        "### SibSp and Parch processing : "
      ]
    },
    {
      "cell_type": "code",
      "metadata": {
        "trusted": true,
        "id": "NY9kuVJDyenT",
        "colab_type": "code",
        "colab": {}
      },
      "source": [
        "def TransfromFamiliy(df_aux):\n",
        "    df_aux[\"familiySize\"] = df_aux[\"SibSp\"] + df_aux[\"Parch\"] + 1\n",
        "    \n",
        "    AloneTravel = (df_aux['SibSp'] == 0) & (df_aux['Parch'] == 0)\n",
        "    CoupleTravel = (df_aux['SibSp'] == 0) & (df_aux['Parch'] == 1)\n",
        "    siblingsTravel = (df_aux['SibSp'] == 1) & (df_aux['Parch'] == 0)\n",
        "    SmallFamilly = (df_aux['familiySize'] <= 3) & (df_aux['familiySize'] >= 2)\n",
        "    BigFamilly =(df_aux['familiySize'] >3)\n",
        "    \n",
        "    df_aux.loc[AloneTravel, 'familiy'] = \"Alone Travel\"\n",
        "    df_aux.loc[CoupleTravel, 'familiy'] = \"Couple Travel\"\n",
        "    df_aux.loc[siblingsTravel, 'familiy'] = \"siblings Travel\"\n",
        "    df_aux.loc[SmallFamilly, 'familiy'] = \"Small Familly\"\n",
        "    df_aux.loc[BigFamilly, 'familiy'] = \"Big Familly\"\n",
        "    \n",
        "    return df_aux"
      ],
      "execution_count": null,
      "outputs": []
    },
    {
      "cell_type": "markdown",
      "metadata": {
        "id": "ninsm2n_yenY",
        "colab_type": "text"
      },
      "source": [
        "#### Transforming ...."
      ]
    },
    {
      "cell_type": "markdown",
      "metadata": {
        "id": "kjgTBEWDyenZ",
        "colab_type": "text"
      },
      "source": [
        "#### Training set "
      ]
    },
    {
      "cell_type": "code",
      "metadata": {
        "trusted": true,
        "id": "MyFaEVyYyena",
        "colab_type": "code",
        "colab": {}
      },
      "source": [
        "dfTrain = TransfromTitle(df_train)\n",
        "dfTrain = TransfromAge(dfTrain)\n",
        "dfTrain = TransfromFare(dfTrain)\n",
        "dfTrain = TransfromCabin(dfTrain)\n",
        "dfTrain = TransfromEmbarked(dfTrain)\n",
        "dfTrain = TransfromFamiliy(dfTrain)"
      ],
      "execution_count": null,
      "outputs": []
    },
    {
      "cell_type": "code",
      "metadata": {
        "trusted": true,
        "id": "OnK480mMyenf",
        "colab_type": "code",
        "colab": {}
      },
      "source": [
        "dfTrain = dfTrain[['familiySize','SibSp','Parch','title','GroupAge','GroupFare','HasOrNotCabinNumber',\n",
        "         'Sex','Embarked','Pclass','familiy','Survived']]"
      ],
      "execution_count": null,
      "outputs": []
    },
    {
      "cell_type": "code",
      "metadata": {
        "trusted": true,
        "id": "e7BGBfQ9yenm",
        "colab_type": "code",
        "colab": {}
      },
      "source": [
        "dfTrain.head(10)"
      ],
      "execution_count": null,
      "outputs": []
    },
    {
      "cell_type": "markdown",
      "metadata": {
        "id": "EvwRceARyent",
        "colab_type": "text"
      },
      "source": [
        "#### Testing set "
      ]
    },
    {
      "cell_type": "code",
      "metadata": {
        "trusted": true,
        "id": "QJ1upn7Qyenu",
        "colab_type": "code",
        "colab": {}
      },
      "source": [
        "dfTest = TransfromTitle(df_test)\n",
        "dfTest = TransfromAge(dfTest)\n",
        "dfTest = TransfromFare(dfTest)\n",
        "dfTest = TransfromCabin(dfTest)\n",
        "dfTest = TransfromEmbarked(dfTest)\n",
        "dfTest = TransfromFamiliy(dfTest)"
      ],
      "execution_count": null,
      "outputs": []
    },
    {
      "cell_type": "code",
      "metadata": {
        "trusted": true,
        "id": "KZJf3_h_yen0",
        "colab_type": "code",
        "colab": {}
      },
      "source": [
        "dfTest = dfTest[['familiySize','SibSp','Parch','title','GroupAge','GroupFare','HasOrNotCabinNumber',\n",
        "         'Sex','Embarked','Pclass','familiy']]"
      ],
      "execution_count": null,
      "outputs": []
    },
    {
      "cell_type": "code",
      "metadata": {
        "trusted": true,
        "id": "ucRByvTPyen4",
        "colab_type": "code",
        "colab": {}
      },
      "source": [
        "dfTest.head(10)"
      ],
      "execution_count": null,
      "outputs": []
    },
    {
      "cell_type": "code",
      "metadata": {
        "trusted": true,
        "id": "HtM8Xc5Eyen8",
        "colab_type": "code",
        "colab": {}
      },
      "source": [
        "from sklearn.preprocessing import LabelEncoder, OneHotEncoder\n",
        "from sklearn.impute import SimpleImputer\n",
        "from sklearn.pipeline import make_pipeline\n",
        "from sklearn.model_selection import GridSearchCV, train_test_split\n",
        "from sklearn.impute import KNNImputer\n",
        "from sklearn.preprocessing import MinMaxScaler, StandardScaler, RobustScaler"
      ],
      "execution_count": null,
      "outputs": []
    },
    {
      "cell_type": "code",
      "metadata": {
        "trusted": true,
        "id": "z6OzYhcCyeoB",
        "colab_type": "code",
        "colab": {}
      },
      "source": [
        "X_train = dfTrain.drop(columns = ['Survived']).values\n",
        "y = dfTrain.Survived.values\n",
        "X_test = dfTest.values"
      ],
      "execution_count": null,
      "outputs": []
    },
    {
      "cell_type": "markdown",
      "metadata": {
        "id": "Iuilxsv5yeoK",
        "colab_type": "text"
      },
      "source": [
        "##### Encode Train Set"
      ]
    },
    {
      "cell_type": "code",
      "metadata": {
        "trusted": true,
        "id": "Qc5amqOXyeoM",
        "colab_type": "code",
        "colab": {}
      },
      "source": [
        "for i in range(len(X_train)):\n",
        "    X_train[i,9] = str(X_train[i,9])\n",
        "\n",
        "X_train[:,0:3] = StandardScaler().fit_transform(X_train[:,0:3])\n",
        "\n",
        "\n",
        "onehotencoder_1 = OneHotEncoder()\n",
        "u1 = onehotencoder_1.fit_transform(X_train[:,3:]).toarray()\n",
        "\n",
        "X_train2 = np.concatenate((X_train[:,0:3], u1), axis=1)\n",
        "X_train2.shape"
      ],
      "execution_count": null,
      "outputs": []
    },
    {
      "cell_type": "markdown",
      "metadata": {
        "id": "0zrZSZtLyeoQ",
        "colab_type": "text"
      },
      "source": [
        "##### Encode Train Test"
      ]
    },
    {
      "cell_type": "code",
      "metadata": {
        "trusted": true,
        "id": "NC8AbRsLyeoR",
        "colab_type": "code",
        "colab": {}
      },
      "source": [
        "StandardScaler().fit_transform(X_test[:,0:3]).shape\n",
        "X_test[:,0:3].shape"
      ],
      "execution_count": null,
      "outputs": []
    },
    {
      "cell_type": "code",
      "metadata": {
        "trusted": true,
        "id": "r3dOM0gEyeoV",
        "colab_type": "code",
        "colab": {}
      },
      "source": [
        "for i in range(len(X_test)):\n",
        "    X_test[i,9] = str(X_test[i,9])\n",
        "\n",
        "X_test[:,0:3] = StandardScaler().fit_transform(X_test[:,0:3])\n",
        "\n",
        "onehotencoder_2 = OneHotEncoder()\n",
        "u2 = onehotencoder_2.fit_transform(X_test[:,3:]).toarray()\n",
        "\n",
        "X_test2 = np.concatenate((X_test[:,0:3], u2), axis=1)\n",
        "X_test2.shape"
      ],
      "execution_count": null,
      "outputs": []
    },
    {
      "cell_type": "code",
      "metadata": {
        "trusted": true,
        "id": "3um8eAjIyeoc",
        "colab_type": "code",
        "colab": {}
      },
      "source": [
        "from sklearn.pipeline import make_pipeline\n",
        "from sklearn.ensemble import RandomForestClassifier\n",
        "from sklearn.ensemble.gradient_boosting import GradientBoostingClassifier\n",
        "from sklearn.feature_selection import SelectKBest\n",
        "from sklearn.model_selection import StratifiedKFold\n",
        "from sklearn.model_selection import GridSearchCV\n",
        "from sklearn.model_selection import cross_val_score\n",
        "from sklearn.feature_selection import SelectFromModel\n",
        "from sklearn.linear_model import LogisticRegression, LogisticRegressionCV\n",
        "from sklearn.tree import DecisionTreeClassifier\n",
        "from sklearn.ensemble import RandomForestClassifier\n",
        "from sklearn.naive_bayes import GaussianNB\n",
        "from sklearn.svm import SVC\n",
        "from sklearn.model_selection import GridSearchCV\n",
        "import xgboost as xgb"
      ],
      "execution_count": null,
      "outputs": []
    },
    {
      "cell_type": "code",
      "metadata": {
        "trusted": true,
        "id": "OPomFfRdyeoh",
        "colab_type": "code",
        "colab": {}
      },
      "source": [
        "import xgboost as xgb\n",
        "logreg = LogisticRegression()\n",
        "Gauss = GaussianNB()\n",
        "rf = RandomForestClassifier()\n",
        "gboost = GradientBoostingClassifier()\n",
        "DTC =  DecisionTreeClassifier()\n",
        "RF = RandomForestClassifier(n_estimators=200)\n",
        "SVectorMachine = SVC()\n",
        "xgb = xgb.XGBClassifier(max_depth=3, n_estimators=10, learning_rate=0.01)\n",
        "models = [logreg,Gauss, gboost,DTC,RF,SVectorMachine,xgb]"
      ],
      "execution_count": null,
      "outputs": []
    },
    {
      "cell_type": "code",
      "metadata": {
        "trusted": true,
        "id": "HMM23Aovyeom",
        "colab_type": "code",
        "colab": {}
      },
      "source": [
        "def compute_score(clf, X, y, scoring='accuracy'):\n",
        "    xval = cross_val_score(clf, X, y, cv = 10, scoring=scoring)\n",
        "    return np.mean(xval)"
      ],
      "execution_count": null,
      "outputs": []
    },
    {
      "cell_type": "code",
      "metadata": {
        "trusted": true,
        "id": "RGsEptdryeow",
        "colab_type": "code",
        "colab": {}
      },
      "source": [
        "for model in models:\n",
        "    print('Cross-validation of : {0}'.format(model.__class__))\n",
        "    score = compute_score(clf=model, X=X_train2, y=y, scoring='accuracy')\n",
        "    print('CV score = {0}'.format(score))\n",
        "    print('----->>>>>>')"
      ],
      "execution_count": null,
      "outputs": []
    },
    {
      "cell_type": "markdown",
      "metadata": {
        "id": "AWjGGw13yeo0",
        "colab_type": "text"
      },
      "source": [
        "## Simple Neural network"
      ]
    },
    {
      "cell_type": "code",
      "metadata": {
        "trusted": true,
        "id": "OmeNLTWCyeo4",
        "colab_type": "code",
        "colab": {}
      },
      "source": [
        "\n",
        "X = np.asarray(X_train2).astype(np.float32)\n",
        "Y = np.asarray(y).astype(np.float32)"
      ],
      "execution_count": null,
      "outputs": []
    },
    {
      "cell_type": "code",
      "metadata": {
        "trusted": true,
        "id": "j_VKvoogyeo_",
        "colab_type": "code",
        "colab": {}
      },
      "source": [
        "from keras.wrappers.scikit_learn import KerasClassifier\n",
        "from sklearn.model_selection import cross_val_score\n",
        "from keras.models import Sequential\n",
        "from keras.layers import Dense, Dropout\n",
        "\n",
        "classifier = Sequential() \n",
        "classifier.add(Dense(units = 35,activation = \"relu\",kernel_initializer=\"uniform\",input_dim=33))\n",
        "classifier.add(Dropout(rate=0.1))\n",
        "classifier.add(Dense(units = 20,activation = \"relu\",kernel_initializer=\"uniform\"))\n",
        "classifier.add(Dense(units = 15,activation = \"relu\",kernel_initializer=\"uniform\"))\n",
        "classifier.add(Dense(units = 1,activation = \"sigmoid\",kernel_initializer=\"uniform\"))\n",
        "classifier.compile(optimizer=\"rmsprop\",loss=\"binary_crossentropy\",metrics=['acc'])\n",
        "classifier.fit(X,Y,batch_size=50,epochs=110)"
      ],
      "execution_count": null,
      "outputs": []
    },
    {
      "cell_type": "code",
      "metadata": {
        "trusted": true,
        "id": "p62JiwjEyepD",
        "colab_type": "code",
        "colab": {}
      },
      "source": [
        "result = []\n",
        "Y_pred = classifier.predict(np.asarray(X_test2).astype(np.float32))\n",
        "Y_pred = (Y_pred>0.55)\n",
        "\n",
        "for i in range(len(Y_pred)):\n",
        "    if Y_pred[i][0] == True :\n",
        "        result.append(1)\n",
        "    else :\n",
        "        result.append(0)\n",
        "PassengerId = df_test[\"PassengerId\"] # PassengerId,Survived\n",
        "SurvivedResult = pd.DataFrame({'Survived': result})\n",
        "results = pd.concat([PassengerId,SurvivedResult],axis=1)\n",
        "results.to_csv(\"gender_submission.csv\",sep = ',',index=False)"
      ],
      "execution_count": null,
      "outputs": []
    },
    {
      "cell_type": "code",
      "metadata": {
        "trusted": true,
        "id": "XI5xEaGDyepI",
        "colab_type": "code",
        "colab": {}
      },
      "source": [
        "results"
      ],
      "execution_count": null,
      "outputs": []
    }
  ]
}